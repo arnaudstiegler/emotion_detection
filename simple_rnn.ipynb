{
 "cells": [
  {
   "cell_type": "code",
   "execution_count": 1,
   "metadata": {},
   "outputs": [],
   "source": [
    "#TODO: reduce size vocabulary\n",
    "#TODO: check size embedding\n",
    "#TODO: tensorboard"
   ]
  },
  {
   "cell_type": "code",
   "execution_count": 1,
   "metadata": {},
   "outputs": [],
   "source": [
    "import pandas as pd\n",
    "\n",
    "df = pd.read_csv('data/isear_processed.csv',header=0, index_col=0, names=['text','sentiment'])"
   ]
  },
  {
   "cell_type": "code",
   "execution_count": 2,
   "metadata": {},
   "outputs": [
    {
     "data": {
      "text/plain": [
       "array(['joy', 'fear', 'anger', 'sadness', 'disgust', 'shame', 'guilt'],\n",
       "      dtype=object)"
      ]
     },
     "execution_count": 2,
     "metadata": {},
     "output_type": "execute_result"
    }
   ],
   "source": [
    "df['sentiment'].unique()"
   ]
  },
  {
   "cell_type": "code",
   "execution_count": 3,
   "metadata": {},
   "outputs": [
    {
     "data": {
      "text/html": [
       "<div>\n",
       "<style scoped>\n",
       "    .dataframe tbody tr th:only-of-type {\n",
       "        vertical-align: middle;\n",
       "    }\n",
       "\n",
       "    .dataframe tbody tr th {\n",
       "        vertical-align: top;\n",
       "    }\n",
       "\n",
       "    .dataframe thead th {\n",
       "        text-align: right;\n",
       "    }\n",
       "</style>\n",
       "<table border=\"1\" class=\"dataframe\">\n",
       "  <thead>\n",
       "    <tr style=\"text-align: right;\">\n",
       "      <th></th>\n",
       "      <th>text</th>\n",
       "      <th>sentiment</th>\n",
       "    </tr>\n",
       "  </thead>\n",
       "  <tbody>\n",
       "    <tr>\n",
       "      <td>0</td>\n",
       "      <td>During the period of falling in love, each tim...</td>\n",
       "      <td>joy</td>\n",
       "    </tr>\n",
       "    <tr>\n",
       "      <td>1</td>\n",
       "      <td>When I was involved in a traffic accident.</td>\n",
       "      <td>fear</td>\n",
       "    </tr>\n",
       "    <tr>\n",
       "      <td>2</td>\n",
       "      <td>When I was driving home after  several days of...</td>\n",
       "      <td>anger</td>\n",
       "    </tr>\n",
       "    <tr>\n",
       "      <td>3</td>\n",
       "      <td>When I lost the person who meant the most to me.</td>\n",
       "      <td>sadness</td>\n",
       "    </tr>\n",
       "    <tr>\n",
       "      <td>4</td>\n",
       "      <td>The time I knocked a deer down - the sight of ...</td>\n",
       "      <td>disgust</td>\n",
       "    </tr>\n",
       "  </tbody>\n",
       "</table>\n",
       "</div>"
      ],
      "text/plain": [
       "                                                text sentiment\n",
       "0  During the period of falling in love, each tim...       joy\n",
       "1         When I was involved in a traffic accident.      fear\n",
       "2  When I was driving home after  several days of...     anger\n",
       "3  When I lost the person who meant the most to me.    sadness\n",
       "4  The time I knocked a deer down - the sight of ...   disgust"
      ]
     },
     "execution_count": 3,
     "metadata": {},
     "output_type": "execute_result"
    }
   ],
   "source": [
    "df.head()"
   ]
  },
  {
   "cell_type": "code",
   "execution_count": 4,
   "metadata": {},
   "outputs": [
    {
     "name": "stderr",
     "output_type": "stream",
     "text": [
      "/Users/arnaudstiegler/miniconda3/envs/emotion_detection/lib/python3.6/site-packages/tensorflow/python/framework/dtypes.py:523: FutureWarning: Passing (type, 1) or '1type' as a synonym of type is deprecated; in a future version of numpy, it will be understood as (type, (1,)) / '(1,)type'.\n",
      "  _np_qint8 = np.dtype([(\"qint8\", np.int8, 1)])\n",
      "/Users/arnaudstiegler/miniconda3/envs/emotion_detection/lib/python3.6/site-packages/tensorflow/python/framework/dtypes.py:524: FutureWarning: Passing (type, 1) or '1type' as a synonym of type is deprecated; in a future version of numpy, it will be understood as (type, (1,)) / '(1,)type'.\n",
      "  _np_quint8 = np.dtype([(\"quint8\", np.uint8, 1)])\n",
      "/Users/arnaudstiegler/miniconda3/envs/emotion_detection/lib/python3.6/site-packages/tensorflow/python/framework/dtypes.py:525: FutureWarning: Passing (type, 1) or '1type' as a synonym of type is deprecated; in a future version of numpy, it will be understood as (type, (1,)) / '(1,)type'.\n",
      "  _np_qint16 = np.dtype([(\"qint16\", np.int16, 1)])\n",
      "/Users/arnaudstiegler/miniconda3/envs/emotion_detection/lib/python3.6/site-packages/tensorflow/python/framework/dtypes.py:526: FutureWarning: Passing (type, 1) or '1type' as a synonym of type is deprecated; in a future version of numpy, it will be understood as (type, (1,)) / '(1,)type'.\n",
      "  _np_quint16 = np.dtype([(\"quint16\", np.uint16, 1)])\n",
      "/Users/arnaudstiegler/miniconda3/envs/emotion_detection/lib/python3.6/site-packages/tensorflow/python/framework/dtypes.py:527: FutureWarning: Passing (type, 1) or '1type' as a synonym of type is deprecated; in a future version of numpy, it will be understood as (type, (1,)) / '(1,)type'.\n",
      "  _np_qint32 = np.dtype([(\"qint32\", np.int32, 1)])\n",
      "/Users/arnaudstiegler/miniconda3/envs/emotion_detection/lib/python3.6/site-packages/tensorflow/python/framework/dtypes.py:532: FutureWarning: Passing (type, 1) or '1type' as a synonym of type is deprecated; in a future version of numpy, it will be understood as (type, (1,)) / '(1,)type'.\n",
      "  np_resource = np.dtype([(\"resource\", np.ubyte, 1)])\n",
      "/Users/arnaudstiegler/miniconda3/envs/emotion_detection/lib/python3.6/site-packages/tensorboard/compat/tensorflow_stub/dtypes.py:541: FutureWarning: Passing (type, 1) or '1type' as a synonym of type is deprecated; in a future version of numpy, it will be understood as (type, (1,)) / '(1,)type'.\n",
      "  _np_qint8 = np.dtype([(\"qint8\", np.int8, 1)])\n",
      "/Users/arnaudstiegler/miniconda3/envs/emotion_detection/lib/python3.6/site-packages/tensorboard/compat/tensorflow_stub/dtypes.py:542: FutureWarning: Passing (type, 1) or '1type' as a synonym of type is deprecated; in a future version of numpy, it will be understood as (type, (1,)) / '(1,)type'.\n",
      "  _np_quint8 = np.dtype([(\"quint8\", np.uint8, 1)])\n",
      "/Users/arnaudstiegler/miniconda3/envs/emotion_detection/lib/python3.6/site-packages/tensorboard/compat/tensorflow_stub/dtypes.py:543: FutureWarning: Passing (type, 1) or '1type' as a synonym of type is deprecated; in a future version of numpy, it will be understood as (type, (1,)) / '(1,)type'.\n",
      "  _np_qint16 = np.dtype([(\"qint16\", np.int16, 1)])\n",
      "/Users/arnaudstiegler/miniconda3/envs/emotion_detection/lib/python3.6/site-packages/tensorboard/compat/tensorflow_stub/dtypes.py:544: FutureWarning: Passing (type, 1) or '1type' as a synonym of type is deprecated; in a future version of numpy, it will be understood as (type, (1,)) / '(1,)type'.\n",
      "  _np_quint16 = np.dtype([(\"quint16\", np.uint16, 1)])\n",
      "/Users/arnaudstiegler/miniconda3/envs/emotion_detection/lib/python3.6/site-packages/tensorboard/compat/tensorflow_stub/dtypes.py:545: FutureWarning: Passing (type, 1) or '1type' as a synonym of type is deprecated; in a future version of numpy, it will be understood as (type, (1,)) / '(1,)type'.\n",
      "  _np_qint32 = np.dtype([(\"qint32\", np.int32, 1)])\n",
      "/Users/arnaudstiegler/miniconda3/envs/emotion_detection/lib/python3.6/site-packages/tensorboard/compat/tensorflow_stub/dtypes.py:550: FutureWarning: Passing (type, 1) or '1type' as a synonym of type is deprecated; in a future version of numpy, it will be understood as (type, (1,)) / '(1,)type'.\n",
      "  np_resource = np.dtype([(\"resource\", np.ubyte, 1)])\n"
     ]
    }
   ],
   "source": [
    "from tensorflow.keras.preprocessing.text import Tokenizer\n",
    "from tensorflow.keras.preprocessing.sequence import pad_sequences\n",
    "\n",
    "tokenizer = Tokenizer()\n",
    "tokenizer.fit_on_texts(df['text'])\n",
    "sequences = tokenizer.texts_to_sequences(df['text'])\n",
    "sequences = pad_sequences(sequences, maxlen=100)"
   ]
  },
  {
   "cell_type": "code",
   "execution_count": 5,
   "metadata": {},
   "outputs": [],
   "source": [
    "import numpy as np\n",
    "\n",
    "emotion_dict = {}\n",
    "labels = df['sentiment']\n",
    "\n",
    "for k in range(len(labels.unique())):\n",
    "    emotion_dict[labels.unique()[k]] = k\n",
    "    \n",
    "encoded_labels = np.array(list(labels.map(lambda x: emotion_dict[x])))"
   ]
  },
  {
   "cell_type": "code",
   "execution_count": 6,
   "metadata": {},
   "outputs": [
    {
     "name": "stdout",
     "output_type": "stream",
     "text": [
      "Found 400000 word vectors.\n"
     ]
    }
   ],
   "source": [
    "embeddings_index = {}\n",
    "with open('data/embedding/glove.6B.100d.txt') as f:\n",
    "    for line in f:\n",
    "        word, coefs = line.split(maxsplit=1)\n",
    "        coefs = np.fromstring(coefs, 'f', sep=' ')\n",
    "        embeddings_index[word] = coefs\n",
    "\n",
    "print('Found %s word vectors.' % len(embeddings_index))"
   ]
  },
  {
   "cell_type": "code",
   "execution_count": 7,
   "metadata": {},
   "outputs": [],
   "source": [
    "#Preparing the embedding\n",
    "\n",
    "MAX_NUM_WORDS = 20000\n",
    "EMBEDDING_DIM = 100\n",
    "\n",
    "num_words = min(MAX_NUM_WORDS, len(tokenizer.word_index) + 1)\n",
    "embedding_matrix = np.zeros((num_words, EMBEDDING_DIM))\n",
    "for word, i in tokenizer.word_index.items():\n",
    "    if i >= MAX_NUM_WORDS:\n",
    "        continue\n",
    "    embedding_vector = embeddings_index.get(word)\n",
    "    if embedding_vector is not None:\n",
    "        # words not found in embedding index will be all-zeros.\n",
    "        embedding_matrix[i] = embedding_vector\n"
   ]
  },
  {
   "cell_type": "code",
   "execution_count": 8,
   "metadata": {},
   "outputs": [],
   "source": [
    "from sklearn.model_selection import train_test_split\n",
    "\n",
    "X_train, X_test, y_train, y_test = train_test_split(sequences, encoded_labels, stratify=encoded_labels)"
   ]
  },
  {
   "cell_type": "code",
   "execution_count": 9,
   "metadata": {},
   "outputs": [],
   "source": [
    "import tensorflow as tf\n",
    "\n",
    "train_ds = tf.data.Dataset.from_tensor_slices((X_train, y_train)).shuffle(1024).batch(32)\n",
    "test_ds = tf.data.Dataset.from_tensor_slices((X_test,y_test)).shuffle(1024).batch(32)"
   ]
  },
  {
   "cell_type": "code",
   "execution_count": 15,
   "metadata": {},
   "outputs": [
    {
     "name": "stdout",
     "output_type": "stream",
     "text": [
      "Model: \"sequential_1\"\n",
      "_________________________________________________________________\n",
      "Layer (type)                 Output Shape              Param #   \n",
      "=================================================================\n",
      "embedding_1 (Embedding)      (None, 100, 100)          906400    \n",
      "_________________________________________________________________\n",
      "unified_lstm_2 (UnifiedLSTM) (None, 100, 50)           30200     \n",
      "_________________________________________________________________\n",
      "unified_lstm_3 (UnifiedLSTM) (None, 50)                20200     \n",
      "_________________________________________________________________\n",
      "dense_2 (Dense)              (None, 32)                1632      \n",
      "_________________________________________________________________\n",
      "dropout_1 (Dropout)          (None, 32)                0         \n",
      "_________________________________________________________________\n",
      "dense_3 (Dense)              (None, 7)                 231       \n",
      "=================================================================\n",
      "Total params: 958,663\n",
      "Trainable params: 52,263\n",
      "Non-trainable params: 906,400\n",
      "_________________________________________________________________\n"
     ]
    }
   ],
   "source": [
    "from tensorflow.keras.layers import Dense, Embedding, LSTM, Dropout\n",
    "from tensorflow.keras.initializers import Constant\n",
    "\n",
    "model = tf.keras.Sequential()\n",
    "\n",
    "model.add(Embedding(num_words, EMBEDDING_DIM, embeddings_initializer=Constant(embedding_matrix),\n",
    "                            input_length=100,\n",
    "                            trainable=False))\n",
    "model.add(LSTM(50, dropout=0.2, return_sequences=True))\n",
    "model.add(LSTM(50, dropout=0.2))\n",
    "model.add(Dense(32, activation='relu'))\n",
    "model.add(Dropout(rate=0.3))\n",
    "model.add(Dense(7, activation='softmax'))\n",
    "\n",
    "model.compile(optimizer=\"adam\", loss=tf.keras.losses.SparseCategoricalCrossentropy(), metrics=['accuracy'])\n",
    "model.summary()"
   ]
  },
  {
   "cell_type": "code",
   "execution_count": 16,
   "metadata": {},
   "outputs": [],
   "source": [
    "import tensorflow as tf\n",
    "assert tf.__version__ >= \"2.0\""
   ]
  },
  {
   "cell_type": "code",
   "execution_count": 17,
   "metadata": {},
   "outputs": [
    {
     "name": "stdout",
     "output_type": "stream",
     "text": [
      "The tensorboard.notebook extension is already loaded. To reload it, use:\n",
      "  %reload_ext tensorboard.notebook\n",
      "Writing logs to ./tensorboard-logs/20191031-143437\n"
     ]
    }
   ],
   "source": [
    "%load_ext tensorboard.notebook\n",
    "!rm -rf ./tensorboard-logs/ # Clear any logs from previous runs\n",
    "\n",
    "import datetime \n",
    "import os\n",
    "\n",
    "date = datetime.datetime.now().strftime(\"%Y%m%d-%H%M%S\")\n",
    "log_dir = os.path.join(\"./tensorboard-logs/\", date)\n",
    "print(\"Writing logs to\", log_dir)\n",
    "exp_dir = os.path.join(log_dir, \"softmax\")\n",
    "\n",
    "tb_callback = tf.keras.callbacks.TensorBoard(log_dir=exp_dir)"
   ]
  },
  {
   "cell_type": "code",
   "execution_count": 18,
   "metadata": {},
   "outputs": [
    {
     "name": "stdout",
     "output_type": "stream",
     "text": [
      "Train on 5749 samples, validate on 1917 samples\n",
      "Epoch 1/30\n",
      "  32/5749 [..............................] - ETA: 2:26 - loss: 1.9285 - accuracy: 0.2188WARNING:tensorflow:Method (on_train_batch_end) is slow compared to the batch update (1.485137). Check your callbacks.\n",
      "5749/5749 [==============================] - 27s 5ms/sample - loss: 1.8856 - accuracy: 0.2260 - val_loss: 1.7633 - val_accuracy: 0.3177\n",
      "Epoch 2/30\n",
      "5749/5749 [==============================] - 22s 4ms/sample - loss: 1.7124 - accuracy: 0.3286 - val_loss: 1.6528 - val_accuracy: 0.3568\n",
      "Epoch 3/30\n",
      "5749/5749 [==============================] - 22s 4ms/sample - loss: 1.5867 - accuracy: 0.3952 - val_loss: 1.5039 - val_accuracy: 0.4116\n",
      "Epoch 4/30\n",
      "5749/5749 [==============================] - 22s 4ms/sample - loss: 1.5098 - accuracy: 0.4399 - val_loss: 1.4651 - val_accuracy: 0.4382\n",
      "Epoch 5/30\n",
      "5749/5749 [==============================] - 22s 4ms/sample - loss: 1.4626 - accuracy: 0.4563 - val_loss: 1.3805 - val_accuracy: 0.4862\n",
      "Epoch 6/30\n",
      "5749/5749 [==============================] - 22s 4ms/sample - loss: 1.3929 - accuracy: 0.4923 - val_loss: 1.3472 - val_accuracy: 0.5055\n",
      "Epoch 7/30\n",
      "5749/5749 [==============================] - 22s 4ms/sample - loss: 1.3593 - accuracy: 0.5100 - val_loss: 1.3016 - val_accuracy: 0.5274\n",
      "Epoch 8/30\n",
      "5749/5749 [==============================] - 22s 4ms/sample - loss: 1.3087 - accuracy: 0.5328 - val_loss: 1.2709 - val_accuracy: 0.5363\n",
      "Epoch 9/30\n",
      "5749/5749 [==============================] - 22s 4ms/sample - loss: 1.2604 - accuracy: 0.5483 - val_loss: 1.2534 - val_accuracy: 0.5342\n",
      "Epoch 10/30\n",
      "5749/5749 [==============================] - 22s 4ms/sample - loss: 1.2380 - accuracy: 0.5524 - val_loss: 1.2823 - val_accuracy: 0.5331\n",
      "Epoch 11/30\n",
      "5749/5749 [==============================] - 23s 4ms/sample - loss: 1.1845 - accuracy: 0.5811 - val_loss: 1.2042 - val_accuracy: 0.5644\n",
      "Epoch 12/30\n",
      "5749/5749 [==============================] - 22s 4ms/sample - loss: 1.1681 - accuracy: 0.5846 - val_loss: 1.1700 - val_accuracy: 0.5759\n",
      "Epoch 13/30\n",
      "5749/5749 [==============================] - 22s 4ms/sample - loss: 1.1271 - accuracy: 0.5998 - val_loss: 1.2110 - val_accuracy: 0.5629\n",
      "Epoch 14/30\n",
      "5749/5749 [==============================] - 22s 4ms/sample - loss: 1.1132 - accuracy: 0.5987 - val_loss: 1.1920 - val_accuracy: 0.5639\n",
      "Epoch 15/30\n",
      "5749/5749 [==============================] - 22s 4ms/sample - loss: 1.0964 - accuracy: 0.6112 - val_loss: 1.1605 - val_accuracy: 0.5796\n",
      "Epoch 16/30\n",
      "5749/5749 [==============================] - 22s 4ms/sample - loss: 1.0768 - accuracy: 0.6203 - val_loss: 1.1560 - val_accuracy: 0.5858\n",
      "Epoch 17/30\n",
      "5749/5749 [==============================] - 22s 4ms/sample - loss: 1.0401 - accuracy: 0.6295 - val_loss: 1.1601 - val_accuracy: 0.5712\n",
      "Epoch 18/30\n",
      "5749/5749 [==============================] - 23s 4ms/sample - loss: 1.0232 - accuracy: 0.6401 - val_loss: 1.1478 - val_accuracy: 0.5832\n",
      "Epoch 19/30\n",
      "5749/5749 [==============================] - 22s 4ms/sample - loss: 1.0090 - accuracy: 0.6478 - val_loss: 1.1689 - val_accuracy: 0.5863\n",
      "Epoch 20/30\n",
      "5749/5749 [==============================] - 22s 4ms/sample - loss: 0.9758 - accuracy: 0.6592 - val_loss: 1.1482 - val_accuracy: 0.5858\n",
      "Epoch 21/30\n",
      "5749/5749 [==============================] - 23s 4ms/sample - loss: 0.9710 - accuracy: 0.6580 - val_loss: 1.1528 - val_accuracy: 0.5962\n",
      "Epoch 22/30\n",
      "5749/5749 [==============================] - 22s 4ms/sample - loss: 0.9621 - accuracy: 0.6568 - val_loss: 1.1400 - val_accuracy: 0.5957\n",
      "Epoch 23/30\n",
      "5749/5749 [==============================] - 24s 4ms/sample - loss: 0.9301 - accuracy: 0.6773 - val_loss: 1.1714 - val_accuracy: 0.5889\n",
      "Epoch 24/30\n",
      "5749/5749 [==============================] - 27s 5ms/sample - loss: 0.9424 - accuracy: 0.6685 - val_loss: 1.1859 - val_accuracy: 0.5999\n",
      "Epoch 25/30\n",
      "5749/5749 [==============================] - 28s 5ms/sample - loss: 0.8954 - accuracy: 0.6775 - val_loss: 1.1719 - val_accuracy: 0.5962\n",
      "Epoch 26/30\n",
      "5749/5749 [==============================] - 30s 5ms/sample - loss: 0.8794 - accuracy: 0.6930 - val_loss: 1.1768 - val_accuracy: 0.5910\n",
      "Epoch 27/30\n",
      "5749/5749 [==============================] - 32s 6ms/sample - loss: 0.8648 - accuracy: 0.6951 - val_loss: 1.2273 - val_accuracy: 0.5936\n",
      "Epoch 28/30\n",
      "5749/5749 [==============================] - 34s 6ms/sample - loss: 0.8476 - accuracy: 0.7020 - val_loss: 1.1778 - val_accuracy: 0.5968\n",
      "Epoch 29/30\n",
      "5749/5749 [==============================] - 24s 4ms/sample - loss: 0.8425 - accuracy: 0.6998 - val_loss: 1.2152 - val_accuracy: 0.5931\n",
      "Epoch 30/30\n",
      "5749/5749 [==============================] - 27s 5ms/sample - loss: 0.8216 - accuracy: 0.7106 - val_loss: 1.2228 - val_accuracy: 0.5931\n"
     ]
    },
    {
     "data": {
      "text/plain": [
       "<tensorflow.python.keras.callbacks.History at 0x11413ad30>"
      ]
     },
     "execution_count": 18,
     "metadata": {},
     "output_type": "execute_result"
    }
   ],
   "source": [
    "model.fit(X_train, y_train, \n",
    "          epochs = 30, \n",
    "          validation_data=(X_test,y_test),\n",
    "         callbacks=[tb_callback])"
   ]
  },
  {
   "cell_type": "code",
   "execution_count": 19,
   "metadata": {},
   "outputs": [
    {
     "data": {
      "text/html": [
       "\n",
       "        <iframe\n",
       "            width=\"100%\"\n",
       "            height=\"800\"\n",
       "            src=\"http://localhost:6007\"\n",
       "            frameborder=\"0\"\n",
       "            allowfullscreen\n",
       "        ></iframe>\n",
       "        "
      ],
      "text/plain": [
       "<IPython.lib.display.IFrame at 0x139f09be0>"
      ]
     },
     "metadata": {},
     "output_type": "display_data"
    }
   ],
   "source": [
    "%tensorboard --logdir \"$log_dir\""
   ]
  },
  {
   "cell_type": "code",
   "execution_count": null,
   "metadata": {},
   "outputs": [],
   "source": []
  }
 ],
 "metadata": {
  "kernelspec": {
   "display_name": "Python [conda env:emotion_detection]",
   "language": "python",
   "name": "conda-env-emotion_detection-py"
  },
  "language_info": {
   "codemirror_mode": {
    "name": "ipython",
    "version": 3
   },
   "file_extension": ".py",
   "mimetype": "text/x-python",
   "name": "python",
   "nbconvert_exporter": "python",
   "pygments_lexer": "ipython3",
   "version": "3.6.7"
  }
 },
 "nbformat": 4,
 "nbformat_minor": 2
}
