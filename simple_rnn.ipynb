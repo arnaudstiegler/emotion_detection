{
 "cells": [
  {
   "cell_type": "code",
   "execution_count": null,
   "metadata": {},
   "outputs": [],
   "source": [
    "#TODO: reduce size vocabulary\n",
    "#TODO: check size embedding\n",
    "#TODO: tensorboard"
   ]
  },
  {
   "cell_type": "code",
   "execution_count": 21,
   "metadata": {},
   "outputs": [],
   "source": [
    "import pandas as pd\n",
    "\n",
    "df = pd.read_csv('data/isear_processed.csv',header=0, index_col=0, names=['text','sentiment'])"
   ]
  },
  {
   "cell_type": "code",
   "execution_count": 22,
   "metadata": {},
   "outputs": [
    {
     "data": {
      "text/plain": [
       "array(['joy', 'fear', 'anger', 'sadness', 'disgust', 'shame', 'guilt'],\n",
       "      dtype=object)"
      ]
     },
     "execution_count": 22,
     "metadata": {},
     "output_type": "execute_result"
    }
   ],
   "source": [
    "df['sentiment'].unique()"
   ]
  },
  {
   "cell_type": "code",
   "execution_count": 23,
   "metadata": {},
   "outputs": [
    {
     "data": {
      "text/html": [
       "<div>\n",
       "<style scoped>\n",
       "    .dataframe tbody tr th:only-of-type {\n",
       "        vertical-align: middle;\n",
       "    }\n",
       "\n",
       "    .dataframe tbody tr th {\n",
       "        vertical-align: top;\n",
       "    }\n",
       "\n",
       "    .dataframe thead th {\n",
       "        text-align: right;\n",
       "    }\n",
       "</style>\n",
       "<table border=\"1\" class=\"dataframe\">\n",
       "  <thead>\n",
       "    <tr style=\"text-align: right;\">\n",
       "      <th></th>\n",
       "      <th>text</th>\n",
       "      <th>sentiment</th>\n",
       "    </tr>\n",
       "  </thead>\n",
       "  <tbody>\n",
       "    <tr>\n",
       "      <td>0</td>\n",
       "      <td>During the period of falling in love, each tim...</td>\n",
       "      <td>joy</td>\n",
       "    </tr>\n",
       "    <tr>\n",
       "      <td>1</td>\n",
       "      <td>When I was involved in a traffic accident.</td>\n",
       "      <td>fear</td>\n",
       "    </tr>\n",
       "    <tr>\n",
       "      <td>2</td>\n",
       "      <td>When I was driving home after  several days of...</td>\n",
       "      <td>anger</td>\n",
       "    </tr>\n",
       "    <tr>\n",
       "      <td>3</td>\n",
       "      <td>When I lost the person who meant the most to me.</td>\n",
       "      <td>sadness</td>\n",
       "    </tr>\n",
       "    <tr>\n",
       "      <td>4</td>\n",
       "      <td>The time I knocked a deer down - the sight of ...</td>\n",
       "      <td>disgust</td>\n",
       "    </tr>\n",
       "  </tbody>\n",
       "</table>\n",
       "</div>"
      ],
      "text/plain": [
       "                                                text sentiment\n",
       "0  During the period of falling in love, each tim...       joy\n",
       "1         When I was involved in a traffic accident.      fear\n",
       "2  When I was driving home after  several days of...     anger\n",
       "3  When I lost the person who meant the most to me.    sadness\n",
       "4  The time I knocked a deer down - the sight of ...   disgust"
      ]
     },
     "execution_count": 23,
     "metadata": {},
     "output_type": "execute_result"
    }
   ],
   "source": [
    "df.head()"
   ]
  },
  {
   "cell_type": "code",
   "execution_count": 24,
   "metadata": {},
   "outputs": [],
   "source": [
    "from tensorflow.keras.preprocessing.text import Tokenizer\n",
    "from tensorflow.keras.preprocessing.sequence import pad_sequences\n",
    "\n",
    "tokenizer = Tokenizer()\n",
    "tokenizer.fit_on_texts(df['text'])\n",
    "sequences = tokenizer.texts_to_sequences(df['text'])\n",
    "sequences = pad_sequences(sequences, maxlen=100)"
   ]
  },
  {
   "cell_type": "code",
   "execution_count": 25,
   "metadata": {},
   "outputs": [],
   "source": [
    "import numpy as np\n",
    "\n",
    "emotion_dict = {}\n",
    "labels = df['sentiment']\n",
    "\n",
    "for k in range(len(labels.unique())):\n",
    "    emotion_dict[labels.unique()[k]] = k\n",
    "    \n",
    "encoded_labels = np.array(list(labels.map(lambda x: emotion_dict[x])))"
   ]
  },
  {
   "cell_type": "code",
   "execution_count": 26,
   "metadata": {},
   "outputs": [],
   "source": [
    "from sklearn.model_selection import train_test_split\n",
    "\n",
    "X_train, X_test, y_train, y_test = train_test_split(sequences, encoded_labels, stratify=encoded_labels)"
   ]
  },
  {
   "cell_type": "code",
   "execution_count": 27,
   "metadata": {},
   "outputs": [],
   "source": [
    "import tensorflow as tf\n",
    "\n",
    "train_ds = tf.data.Dataset.from_tensor_slices((X_train, y_train)).shuffle(1024).batch(32)\n",
    "test_ds = tf.data.Dataset.from_tensor_slices((X_test,y_test)).shuffle(1024).batch(32)"
   ]
  },
  {
   "cell_type": "code",
   "execution_count": 48,
   "metadata": {},
   "outputs": [
    {
     "name": "stdout",
     "output_type": "stream",
     "text": [
      "Model: \"sequential_5\"\n",
      "_________________________________________________________________\n",
      "Layer (type)                 Output Shape              Param #   \n",
      "=================================================================\n",
      "embedding_5 (Embedding)      (None, None, 50)          453200    \n",
      "_________________________________________________________________\n",
      "lstm_5 (LSTM)                (None, 30)                9720      \n",
      "_________________________________________________________________\n",
      "dense_10 (Dense)             (None, 16)                496       \n",
      "_________________________________________________________________\n",
      "dropout_5 (Dropout)          (None, 16)                0         \n",
      "_________________________________________________________________\n",
      "dense_11 (Dense)             (None, 7)                 119       \n",
      "=================================================================\n",
      "Total params: 463,535\n",
      "Trainable params: 463,535\n",
      "Non-trainable params: 0\n",
      "_________________________________________________________________\n"
     ]
    }
   ],
   "source": [
    "from tensorflow.keras.layers import Dense, Embedding, LSTM, Dropout\n",
    "\n",
    "model = tf.keras.Sequential()\n",
    "\n",
    "model.add(Embedding(len(tokenizer.word_index)+1, 50))\n",
    "model.add(LSTM(30, dropout=0.4))\n",
    "model.add(Dense(16, activation='relu'))\n",
    "model.add(Dropout(rate=0.3))\n",
    "model.add(Dense(7, activation='softmax'))\n",
    "\n",
    "model.compile(optimizer=\"adam\", loss=tf.keras.losses.SparseCategoricalCrossentropy(), metrics=['accuracy'])\n",
    "model.summary()"
   ]
  },
  {
   "cell_type": "code",
   "execution_count": 49,
   "metadata": {},
   "outputs": [],
   "source": [
    "import tensorflow as tf\n",
    "assert tf.__version__ >= \"2.0\""
   ]
  },
  {
   "cell_type": "code",
   "execution_count": 50,
   "metadata": {},
   "outputs": [
    {
     "name": "stdout",
     "output_type": "stream",
     "text": [
      "The tensorboard extension is already loaded. To reload it, use:\n",
      "  %reload_ext tensorboard\n",
      "Writing logs to ./tensorboard-logs/20191030-180708\n"
     ]
    }
   ],
   "source": [
    "%load_ext tensorboard\n",
    "!rm -rf ./tensorboard-logs/ # Clear any logs from previous runs\n",
    "\n",
    "import datetime \n",
    "import os\n",
    "\n",
    "date = datetime.datetime.now().strftime(\"%Y%m%d-%H%M%S\")\n",
    "log_dir = os.path.join(\"./tensorboard-logs/\", date)\n",
    "print(\"Writing logs to\", log_dir)\n",
    "exp_dir = os.path.join(log_dir, \"softmax\")\n",
    "\n",
    "tb_callback = tf.keras.callbacks.TensorBoard(log_dir=exp_dir)"
   ]
  },
  {
   "cell_type": "code",
   "execution_count": 51,
   "metadata": {},
   "outputs": [
    {
     "name": "stdout",
     "output_type": "stream",
     "text": [
      "Train on 5749 samples, validate on 1917 samples\n",
      "Epoch 1/10\n",
      "  32/5749 [..............................] - ETA: 6:05 - loss: 1.9433 - accuracy: 0.1562WARNING:tensorflow:Method (on_train_batch_end) is slow compared to the batch update (0.355613). Check your callbacks.\n",
      "5749/5749 [==============================] - 11s 2ms/sample - loss: 1.9145 - accuracy: 0.1726 - val_loss: 1.8166 - val_accuracy: 0.2467\n",
      "Epoch 2/10\n",
      "5749/5749 [==============================] - 8s 1ms/sample - loss: 1.6899 - accuracy: 0.2961 - val_loss: 1.6041 - val_accuracy: 0.3459\n",
      "Epoch 3/10\n",
      "5749/5749 [==============================] - 8s 1ms/sample - loss: 1.4368 - accuracy: 0.3992 - val_loss: 1.5486 - val_accuracy: 0.3907\n",
      "Epoch 4/10\n",
      "5749/5749 [==============================] - 8s 1ms/sample - loss: 1.2425 - accuracy: 0.4818 - val_loss: 1.5215 - val_accuracy: 0.4231\n",
      "Epoch 5/10\n",
      "5749/5749 [==============================] - 8s 1ms/sample - loss: 1.0927 - accuracy: 0.5490 - val_loss: 1.5510 - val_accuracy: 0.4293\n",
      "Epoch 6/10\n",
      "5749/5749 [==============================] - 8s 1ms/sample - loss: 1.0309 - accuracy: 0.5733 - val_loss: 1.6260 - val_accuracy: 0.4319\n",
      "Epoch 7/10\n",
      "5749/5749 [==============================] - 8s 1ms/sample - loss: 0.9227 - accuracy: 0.6165 - val_loss: 1.6967 - val_accuracy: 0.4502\n",
      "Epoch 8/10\n",
      "5749/5749 [==============================] - 8s 1ms/sample - loss: 0.8560 - accuracy: 0.6481 - val_loss: 1.7131 - val_accuracy: 0.4507\n",
      "Epoch 9/10\n",
      "5749/5749 [==============================] - 8s 1ms/sample - loss: 0.7917 - accuracy: 0.6796 - val_loss: 1.8212 - val_accuracy: 0.4570\n",
      "Epoch 10/10\n",
      "5749/5749 [==============================] - 8s 1ms/sample - loss: 0.7376 - accuracy: 0.7081 - val_loss: 1.8367 - val_accuracy: 0.4523\n"
     ]
    },
    {
     "data": {
      "text/plain": [
       "<tensorflow.python.keras.callbacks.History at 0x1a4d132310>"
      ]
     },
     "execution_count": 51,
     "metadata": {},
     "output_type": "execute_result"
    }
   ],
   "source": [
    "model.fit(X_train, y_train, \n",
    "          epochs = 10, \n",
    "          validation_data=(X_test,y_test),\n",
    "         callbacks=[tb_callback])"
   ]
  },
  {
   "cell_type": "code",
   "execution_count": 52,
   "metadata": {},
   "outputs": [
    {
     "data": {
      "text/html": [
       "\n",
       "      <iframe id=\"tensorboard-frame-2fd994e2f41e5f55\" width=\"100%\" height=\"800\" frameborder=\"0\">\n",
       "      </iframe>\n",
       "      <script>\n",
       "        (function() {\n",
       "          const frame = document.getElementById(\"tensorboard-frame-2fd994e2f41e5f55\");\n",
       "          const url = new URL(\"/\", window.location);\n",
       "          url.port = 6011;\n",
       "          frame.src = url;\n",
       "        })();\n",
       "      </script>\n",
       "  "
      ],
      "text/plain": [
       "<IPython.core.display.HTML object>"
      ]
     },
     "metadata": {},
     "output_type": "display_data"
    }
   ],
   "source": [
    "%tensorboard --logdir \"$log_dir\""
   ]
  },
  {
   "cell_type": "code",
   "execution_count": null,
   "metadata": {},
   "outputs": [],
   "source": []
  }
 ],
 "metadata": {
  "kernelspec": {
   "display_name": "Python [conda env:emotion_detection] *",
   "language": "python",
   "name": "conda-env-emotion_detection-py"
  },
  "language_info": {
   "codemirror_mode": {
    "name": "ipython",
    "version": 3
   },
   "file_extension": ".py",
   "mimetype": "text/x-python",
   "name": "python",
   "nbconvert_exporter": "python",
   "pygments_lexer": "ipython3",
   "version": "3.7.4"
  }
 },
 "nbformat": 4,
 "nbformat_minor": 2
}
