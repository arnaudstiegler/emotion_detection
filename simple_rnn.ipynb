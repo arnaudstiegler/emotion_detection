{
 "cells": [
  {
   "cell_type": "code",
   "execution_count": null,
   "metadata": {},
   "outputs": [],
   "source": [
    "#TODO: reduce size vocabulary\n",
    "#TODO: check size embedding\n",
    "#TODO: tensorboard"
   ]
  },
  {
   "cell_type": "code",
   "execution_count": 19,
   "metadata": {},
   "outputs": [],
   "source": [
    "import pandas as pd\n",
    "\n",
    "df = pd.read_csv('data/isear_processed.csv',header=0, index_col=0, names=['text','sentiment'])"
   ]
  },
  {
   "cell_type": "code",
   "execution_count": 20,
   "metadata": {},
   "outputs": [
    {
     "data": {
      "text/plain": [
       "array(['joy', 'fear', 'anger', 'sadness', 'disgust', 'shame', 'guilt'],\n",
       "      dtype=object)"
      ]
     },
     "execution_count": 20,
     "metadata": {},
     "output_type": "execute_result"
    }
   ],
   "source": [
    "df['sentiment'].unique()"
   ]
  },
  {
   "cell_type": "code",
   "execution_count": 21,
   "metadata": {},
   "outputs": [
    {
     "data": {
      "text/html": [
       "<div>\n",
       "<style scoped>\n",
       "    .dataframe tbody tr th:only-of-type {\n",
       "        vertical-align: middle;\n",
       "    }\n",
       "\n",
       "    .dataframe tbody tr th {\n",
       "        vertical-align: top;\n",
       "    }\n",
       "\n",
       "    .dataframe thead th {\n",
       "        text-align: right;\n",
       "    }\n",
       "</style>\n",
       "<table border=\"1\" class=\"dataframe\">\n",
       "  <thead>\n",
       "    <tr style=\"text-align: right;\">\n",
       "      <th></th>\n",
       "      <th>text</th>\n",
       "      <th>sentiment</th>\n",
       "    </tr>\n",
       "  </thead>\n",
       "  <tbody>\n",
       "    <tr>\n",
       "      <td>0</td>\n",
       "      <td>During the period of falling in love, each tim...</td>\n",
       "      <td>joy</td>\n",
       "    </tr>\n",
       "    <tr>\n",
       "      <td>1</td>\n",
       "      <td>When I was involved in a traffic accident.</td>\n",
       "      <td>fear</td>\n",
       "    </tr>\n",
       "    <tr>\n",
       "      <td>2</td>\n",
       "      <td>When I was driving home after  several days of...</td>\n",
       "      <td>anger</td>\n",
       "    </tr>\n",
       "    <tr>\n",
       "      <td>3</td>\n",
       "      <td>When I lost the person who meant the most to me.</td>\n",
       "      <td>sadness</td>\n",
       "    </tr>\n",
       "    <tr>\n",
       "      <td>4</td>\n",
       "      <td>The time I knocked a deer down - the sight of ...</td>\n",
       "      <td>disgust</td>\n",
       "    </tr>\n",
       "  </tbody>\n",
       "</table>\n",
       "</div>"
      ],
      "text/plain": [
       "                                                text sentiment\n",
       "0  During the period of falling in love, each tim...       joy\n",
       "1         When I was involved in a traffic accident.      fear\n",
       "2  When I was driving home after  several days of...     anger\n",
       "3  When I lost the person who meant the most to me.    sadness\n",
       "4  The time I knocked a deer down - the sight of ...   disgust"
      ]
     },
     "execution_count": 21,
     "metadata": {},
     "output_type": "execute_result"
    }
   ],
   "source": [
    "df.head()"
   ]
  },
  {
   "cell_type": "code",
   "execution_count": 22,
   "metadata": {},
   "outputs": [],
   "source": [
    "from tensorflow.keras.preprocessing.text import Tokenizer\n",
    "from tensorflow.keras.preprocessing.sequence import pad_sequences\n",
    "\n",
    "tokenizer = Tokenizer()\n",
    "tokenizer.fit_on_texts(df['text'])\n",
    "sequences = tokenizer.texts_to_sequences(df['text'])\n",
    "sequences = pad_sequences(sequences, maxlen=100)"
   ]
  },
  {
   "cell_type": "code",
   "execution_count": 23,
   "metadata": {},
   "outputs": [],
   "source": [
    "import numpy as np\n",
    "\n",
    "emotion_dict = {}\n",
    "labels = df['sentiment']\n",
    "\n",
    "for k in range(len(labels.unique())):\n",
    "    emotion_dict[labels.unique()[k]] = k\n",
    "    \n",
    "encoded_labels = np.array(list(labels.map(lambda x: emotion_dict[x])))"
   ]
  },
  {
   "cell_type": "code",
   "execution_count": 25,
   "metadata": {},
   "outputs": [],
   "source": [
    "from sklearn.model_selection import train_test_split\n",
    "\n",
    "X_train, X_test, y_train, y_test = train_test_split(sequences, encoded_labels, stratify=encoded_labels)"
   ]
  },
  {
   "cell_type": "code",
   "execution_count": 26,
   "metadata": {},
   "outputs": [],
   "source": [
    "import tensorflow as tf\n",
    "\n",
    "train_ds = tf.data.Dataset.from_tensor_slices((X_train, y_train)).shuffle(1024).batch(32)\n",
    "test_ds = tf.data.Dataset.from_tensor_slices((X_test,y_test)).shuffle(1024).batch(32)"
   ]
  },
  {
   "cell_type": "code",
   "execution_count": 36,
   "metadata": {},
   "outputs": [
    {
     "name": "stdout",
     "output_type": "stream",
     "text": [
      "Model: \"sequential_9\"\n",
      "_________________________________________________________________\n",
      "Layer (type)                 Output Shape              Param #   \n",
      "=================================================================\n",
      "embedding_9 (Embedding)      (None, None, 50)          453200    \n",
      "_________________________________________________________________\n",
      "unified_lstm_9 (UnifiedLSTM) (None, 132)               96624     \n",
      "_________________________________________________________________\n",
      "dense_13 (Dense)             (None, 32)                4256      \n",
      "_________________________________________________________________\n",
      "dropout_7 (Dropout)          (None, 32)                0         \n",
      "_________________________________________________________________\n",
      "dense_14 (Dense)             (None, 7)                 231       \n",
      "=================================================================\n",
      "Total params: 554,311\n",
      "Trainable params: 554,311\n",
      "Non-trainable params: 0\n",
      "_________________________________________________________________\n"
     ]
    }
   ],
   "source": [
    "from tensorflow.keras.layers import Dense, Embedding, LSTM, Dropout\n",
    "\n",
    "model = tf.keras.Sequential()\n",
    "\n",
    "model.add(Embedding(len(tokenizer.word_index) +1, 50))\n",
    "model.add(LSTM(132, dropout=0.4))\n",
    "model.add(Dense(32, activation='relu'))\n",
    "model.add(Dropout(rate=0.3))\n",
    "model.add(Dense(7, activation='softmax'))\n",
    "\n",
    "model.compile(optimizer=\"adam\", loss=tf.keras.losses.SparseCategoricalCrossentropy(), metrics=['accuracy'])\n",
    "model.summary()"
   ]
  },
  {
   "cell_type": "code",
   "execution_count": 37,
   "metadata": {},
   "outputs": [
    {
     "name": "stdout",
     "output_type": "stream",
     "text": [
      "Train on 5749 samples, validate on 1917 samples\n",
      "Epoch 1/10\n",
      "5749/5749 [==============================] - 20s 4ms/sample - loss: 1.9214 - accuracy: 0.1826 - val_loss: 1.8333 - val_accuracy: 0.3099\n",
      "Epoch 2/10\n",
      "5749/5749 [==============================] - 20s 4ms/sample - loss: 1.6058 - accuracy: 0.3910 - val_loss: 1.5251 - val_accuracy: 0.4293\n",
      "Epoch 3/10\n",
      "5749/5749 [==============================] - 20s 3ms/sample - loss: 1.2208 - accuracy: 0.5632 - val_loss: 1.4121 - val_accuracy: 0.4956\n",
      "Epoch 4/10\n",
      "5749/5749 [==============================] - 20s 3ms/sample - loss: 0.9487 - accuracy: 0.6739 - val_loss: 1.3993 - val_accuracy: 0.5023\n",
      "Epoch 5/10\n",
      "5749/5749 [==============================] - 22s 4ms/sample - loss: 0.7846 - accuracy: 0.7393 - val_loss: 1.3972 - val_accuracy: 0.5279\n",
      "Epoch 6/10\n",
      "5749/5749 [==============================] - 25s 4ms/sample - loss: 0.6598 - accuracy: 0.7862 - val_loss: 1.5423 - val_accuracy: 0.5143\n",
      "Epoch 7/10\n",
      "5749/5749 [==============================] - 23s 4ms/sample - loss: 0.5623 - accuracy: 0.8174 - val_loss: 1.5833 - val_accuracy: 0.5227\n",
      "Epoch 8/10\n",
      "5749/5749 [==============================] - 20s 3ms/sample - loss: 0.4888 - accuracy: 0.8438 - val_loss: 1.6849 - val_accuracy: 0.5258\n",
      "Epoch 9/10\n",
      "5749/5749 [==============================] - 20s 3ms/sample - loss: 0.4358 - accuracy: 0.8642 - val_loss: 1.8034 - val_accuracy: 0.5138\n",
      "Epoch 10/10\n",
      "5749/5749 [==============================] - 20s 3ms/sample - loss: 0.3869 - accuracy: 0.8810 - val_loss: 1.9536 - val_accuracy: 0.5128\n"
     ]
    },
    {
     "data": {
      "text/plain": [
       "<tensorflow.python.keras.callbacks.History at 0x13864cfd0>"
      ]
     },
     "execution_count": 37,
     "metadata": {},
     "output_type": "execute_result"
    }
   ],
   "source": [
    "model.fit(X_train, y_train, epochs = 10, validation_data=(X_test,y_test))"
   ]
  },
  {
   "cell_type": "code",
   "execution_count": null,
   "metadata": {},
   "outputs": [],
   "source": []
  }
 ],
 "metadata": {
  "kernelspec": {
   "display_name": "Python [conda env:emotion_detection]",
   "language": "python",
   "name": "conda-env-emotion_detection-py"
  },
  "language_info": {
   "codemirror_mode": {
    "name": "ipython",
    "version": 3
   },
   "file_extension": ".py",
   "mimetype": "text/x-python",
   "name": "python",
   "nbconvert_exporter": "python",
   "pygments_lexer": "ipython3",
   "version": "3.6.7"
  }
 },
 "nbformat": 4,
 "nbformat_minor": 2
}
